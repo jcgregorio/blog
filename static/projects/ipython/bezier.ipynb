{
 "metadata": {
  "name": ""
 },
 "nbformat": 3,
 "nbformat_minor": 0,
 "worksheets": [
  {
   "cells": [
    {
     "cell_type": "markdown",
     "metadata": {},
     "source": [
      "So I've been impressed with [IPython](http://ipython.org/) so far, it can be a little fiddly to install, but given the power I'm not going to complain. I'm now working on [graphics](https://code.google.com/p/skia) and in trying to get up to speed going back and learning, or relearning, some basics. Today was B\u00e9zier curves. Note that the below isn't actually educational, you should follow the links provided to really learn about these constructs, I just wanted an excuse to try out LaTeX and plot some interesting graphs."
     ]
    },
    {
     "cell_type": "code",
     "collapsed": false,
     "input": [
      "%pylab inline"
     ],
     "language": "python",
     "metadata": {},
     "outputs": [
      {
       "output_type": "stream",
       "stream": "stdout",
       "text": [
        "Populating the interactive namespace from numpy and matplotlib\n"
       ]
      }
     ],
     "prompt_number": 11
    },
    {
     "cell_type": "markdown",
     "metadata": {},
     "source": [
      "The Quadratic B\u00e9zier curve is a function of _t_, where _t_ ranges from 0 to 1.\n",
      "\n",
      "$$\\mathbf{B}(t) = (1 - t)^{2}\\mathbf{P}_0 + 2(1 - t)t\\mathbf{P}_1 + t^{2}\\mathbf{P}_2 \\mbox{ , } t \\in [0,1].$$\n",
      "\n",
      "Where $\\mathbf{P}_n$ are the control points. So if we define the function in a way we can use it, and then define some values for the control points:"
     ]
    },
    {
     "cell_type": "code",
     "collapsed": false,
     "input": [
      "def B(t):\n",
      "    return (1-t)**2*p0 + 2*t*(1-t)*p1 + t**2*p2\n",
      "\n",
      "p0 = np.array([0, 0])\n",
      "p1 = np.array([1.5, 1])\n",
      "p2 = np.array([2, 0])"
     ],
     "language": "python",
     "metadata": {},
     "outputs": [],
     "prompt_number": 17
    },
    {
     "cell_type": "markdown",
     "metadata": {},
     "source": [
      "We can then plot what that parametrized curve looks like."
     ]
    },
    {
     "cell_type": "code",
     "collapsed": false,
     "input": [
      "xy = np.array([B(t) for t in np.linspace(0, 1, 20)]).T\n",
      "plot(xy[0], xy[1])"
     ],
     "language": "python",
     "metadata": {},
     "outputs": [
      {
       "metadata": {},
       "output_type": "pyout",
       "prompt_number": 18,
       "text": [
        "[<matplotlib.lines.Line2D at 0x38de190>]"
       ]
      },
      {
       "metadata": {},
       "output_type": "display_data",
       "png": "[encoded data removed]",
       "text": [
        "<matplotlib.figure.Figure at 0x38c1490>"
       ]
      }
     ],
     "prompt_number": 18
    },
    {
     "cell_type": "markdown",
     "metadata": {},
     "source": [
      "The Cubic B\u00e9zier curve has the form of: \n",
      "\n",
      "$$\\mathbf{R}(t)=(1-t)^3\\mathbf{P}_0+3(1-t)^2t\\mathbf{P}_1+3(1-t)t^2\\mathbf{P}_2+t^3\\mathbf{P}_3 \\mbox{ , } t \\in [0,1].$$\n",
      "\n",
      "Again, we can define the function and plot it for a given set of points:"
     ]
    },
    {
     "cell_type": "code",
     "collapsed": false,
     "input": [
      "def R(t):\n",
      "    return (1-t)**3 * p0 + 3 * t * (1-t)**2 * p1 + 3 * t**2 * (1-t) * p2 + t**3 * p3"
     ],
     "language": "python",
     "metadata": {},
     "outputs": [],
     "prompt_number": 21
    },
    {
     "cell_type": "code",
     "collapsed": false,
     "input": [
      "p3 = np.array([1, -2])\n",
      "xy = np.array([R(t) for t in np.linspace(0, 1, 30)]).T\n",
      "plot(xy[0], xy[1])"
     ],
     "language": "python",
     "metadata": {},
     "outputs": [
      {
       "metadata": {},
       "output_type": "pyout",
       "prompt_number": 29,
       "text": [
        "[<matplotlib.lines.Line2D at 0x48e5750>]"
       ]
      },
      {
       "metadata": {},
       "output_type": "display_data",
       "png": "[encoded data removed]",
       "text": [
        "<matplotlib.figure.Figure at 0x47a7750>"
       ]
      }
     ],
     "prompt_number": 29
    },
    {
     "cell_type": "markdown",
     "metadata": {},
     "source": [
      "Also interesting are the [Uniform cubic B-splines](http://ipe7.sourceforge.net/manual/manual_16.html) or simply [Bezier splines](http://en.wikipedia.org/wiki/B%C3%A9zier_spline), which can be concatenated smoothly."
     ]
    },
    {
     "cell_type": "code",
     "collapsed": false,
     "input": [
      "def Q(t, p0, p1, p2, p3):\n",
      "    return (((1-t)**3)/(6)) * p0 + ((3*t**3 -6*t**2 + 4)/(6)) * p1 + ((-3*t**3 + 3*t**2 + 3*t + 1)/(6)) * p2 + ((t**3)/(6)) * p3"
     ],
     "language": "python",
     "metadata": {},
     "outputs": [],
     "prompt_number": 30
    },
    {
     "cell_type": "code",
     "collapsed": false,
     "input": [
      "p4 = np.array([-1, -1])\n",
      "p5 = np.array([1, 3])"
     ],
     "language": "python",
     "metadata": {},
     "outputs": [],
     "prompt_number": 32
    },
    {
     "cell_type": "markdown",
     "metadata": {},
     "source": [
      "If we now use our 6 points and plot 4 at a time and keep shifting in one new control point then the spline closes itself."
     ]
    },
    {
     "cell_type": "code",
     "collapsed": false,
     "input": [
      "xy = np.array([Q(t, p0, p1, p2, p3) for t in np.linspace(0, 1, 30)]).T\n",
      "plot(xy[0], xy[1])\n",
      "xy = np.array([Q(t, p1, p2, p3, p4) for t in np.linspace(0, 1, 30)]).T\n",
      "plot(xy[0], xy[1])\n",
      "xy = np.array([Q(t, p2, p3, p4, p5) for t in np.linspace(0, 1, 30)]).T\n",
      "plot(xy[0], xy[1])\n",
      "xy = np.array([Q(t, p3, p4, p5, p0) for t in np.linspace(0, 1, 30)]).T\n",
      "plot(xy[0], xy[1])\n",
      "xy = np.array([Q(t, p4, p5, p0, p1) for t in np.linspace(0, 1, 30)]).T\n",
      "plot(xy[0], xy[1])\n",
      "xy = np.array([Q(t, p5, p0, p1, p2) for t in np.linspace(0, 1, 30)]).T\n",
      "plot(xy[0], xy[1])"
     ],
     "language": "python",
     "metadata": {},
     "outputs": [
      {
       "metadata": {},
       "output_type": "pyout",
       "prompt_number": 33,
       "text": [
        "[<matplotlib.lines.Line2D at 0x50ad2d0>]"
       ]
      },
      {
       "metadata": {},
       "output_type": "display_data",
       "png": "[encoded data removed]",
       "text": [
        "<matplotlib.figure.Figure at 0x4e99050>"
       ]
      }
     ],
     "prompt_number": 33
    },
    {
     "cell_type": "markdown",
     "metadata": {},
     "source": [
      "IPython made all the above possible, you can download the source for this page from [here]() and import it into your own IPython notebook and start working from there. Also, this blog page was generated from that same source with the nbconvert program."
     ]
    },
    {
     "cell_type": "code",
     "collapsed": false,
     "input": [],
     "language": "python",
     "metadata": {},
     "outputs": []
    }
   ],
   "metadata": {}
  }
 ]
}